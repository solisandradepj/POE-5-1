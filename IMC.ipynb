{
  "nbformat": 4,
  "nbformat_minor": 0,
  "metadata": {
    "colab": {
      "name": "IMC",
      "provenance": [],
      "authorship_tag": "ABX9TyObLG9HO8Jy4417DnvkbMFb",
      "include_colab_link": true
    },
    "kernelspec": {
      "name": "python3",
      "display_name": "Python 3"
    },
    "language_info": {
      "name": "python"
    }
  },
  "cells": [
    {
      "cell_type": "markdown",
      "metadata": {
        "id": "view-in-github",
        "colab_type": "text"
      },
      "source": [
        "<a href=\"https://colab.research.google.com/github/solisandradepj/POE-5-1/blob/gh-pages/IMC.ipynb\" target=\"_parent\"><img src=\"https://colab.research.google.com/assets/colab-badge.svg\" alt=\"Open In Colab\"/></a>"
      ]
    },
    {
      "cell_type": "code",
      "execution_count": 1,
      "metadata": {
        "colab": {
          "base_uri": "https://localhost:8080/"
        },
        "id": "ueViVvAY5ZrI",
        "outputId": "aeb49256-631a-4b5e-9700-a8598af63a54"
      },
      "outputs": [
        {
          "output_type": "stream",
          "name": "stdout",
          "text": [
            "24.221453287197235\n"
          ]
        }
      ],
      "source": [
        "#@title Cálculo del IMC\n",
        "Estatura =  1.70#@param {type:\"number\"}\n",
        "Peso =  70#@param {type:\"number\"}\n",
        "print(Peso/(Estatura*Estatura))"
      ]
    }
  ]
}