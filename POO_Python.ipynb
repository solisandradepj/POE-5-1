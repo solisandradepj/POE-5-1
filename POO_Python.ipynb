{
  "nbformat": 4,
  "nbformat_minor": 0,
  "metadata": {
    "colab": {
      "name": "POO Python",
      "provenance": [],
      "collapsed_sections": [],
      "include_colab_link": true
    },
    "kernelspec": {
      "name": "python3",
      "display_name": "Python 3"
    },
    "language_info": {
      "name": "python"
    }
  },
  "cells": [
    {
      "cell_type": "markdown",
      "metadata": {
        "id": "view-in-github",
        "colab_type": "text"
      },
      "source": [
        "<a href=\"https://colab.research.google.com/github/solisandradepj/POE-5-1/blob/gh-pages/POO_Python.ipynb\" target=\"_parent\"><img src=\"https://colab.research.google.com/assets/colab-badge.svg\" alt=\"Open In Colab\"/></a>"
      ]
    },
    {
      "cell_type": "code",
      "execution_count": 3,
      "metadata": {
        "id": "runHhFolwnqG"
      },
      "outputs": [],
      "source": [
        "class persona(): # clase persona\n",
        "    def __init__(self,nombre,edad): # se inicializa con nombre y edad\n",
        "        self.nombre=nombre\n",
        "        self.edad=edad\n",
        "\n",
        "    "
      ]
    },
    {
      "cell_type": "code",
      "source": [
        "paulo=persona(\"Paulo Jesús\", 21)\n"
      ],
      "metadata": {
        "id": "NnRKdq2pwsr2"
      },
      "execution_count": 4,
      "outputs": []
    },
    {
      "cell_type": "code",
      "source": [
        "paulo.nombre, paulo.edad"
      ],
      "metadata": {
        "colab": {
          "base_uri": "https://localhost:8080/"
        },
        "id": "eI1hhmDa5Zyp",
        "outputId": "76046647-97f7-4fba-f644-f3039a6c4bd1"
      },
      "execution_count": 11,
      "outputs": [
        {
          "output_type": "execute_result",
          "data": {
            "text/plain": [
              "('Paulo Jesús', 21)"
            ]
          },
          "metadata": {},
          "execution_count": 11
        }
      ]
    }
  ]
}